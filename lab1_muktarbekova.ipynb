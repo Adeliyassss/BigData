{
 "cells": [
  {
   "cell_type": "code",
   "execution_count": 34,
   "id": "initial_id",
   "metadata": {
    "collapsed": true,
    "jupyter": {
     "outputs_hidden": true
    },
    "ExecuteTime": {
     "end_time": "2023-09-19T07:35:58.518374400Z",
     "start_time": "2023-09-19T07:35:57.507522Z"
    }
   },
   "outputs": [
    {
     "name": "stdout",
     "output_type": "stream",
     "text": [
      "adelia\n"
     ]
    }
   ],
   "source": [
    "print(\"adelia\")"
   ]
  },
  {
   "cell_type": "raw",
   "source": [
    "#Raw NBConcert\n",
    "55+34"
   ],
   "metadata": {
    "collapsed": false
   },
   "id": "c4695e31b0d5d4d"
  },
  {
   "cell_type": "markdown",
   "source": [
    "# Getting Start with Jupiter Python\n",
    "\n",
    "## We have done\n",
    "* Install [Python](https://www.python.org/downloads/) 3.10\n",
    "* Install Jupiter Python in PyCharm"
   ],
   "metadata": {
    "collapsed": false
   },
   "id": "c78be6a11c4540ba"
  },
  {
   "cell_type": "code",
   "execution_count": 35,
   "outputs": [],
   "source": [
    "print?"
   ],
   "metadata": {
    "collapsed": false,
    "ExecuteTime": {
     "end_time": "2023-09-19T07:35:58.799614300Z",
     "start_time": "2023-09-19T07:35:57.523157500Z"
    }
   },
   "id": "fd4665d33063cd38"
  },
  {
   "cell_type": "markdown",
   "source": [
    "## Переменные и типы данных"
   ],
   "metadata": {
    "collapsed": false
   },
   "id": "ad22d2efdb9e9209"
  },
  {
   "cell_type": "code",
   "execution_count": 36,
   "outputs": [
    {
     "name": "stdout",
     "output_type": "stream",
     "text": [
      "15\n"
     ]
    }
   ],
   "source": [
    "i = 15\n",
    "print(i)"
   ],
   "metadata": {
    "collapsed": false,
    "ExecuteTime": {
     "end_time": "2023-09-19T07:35:58.799614300Z",
     "start_time": "2023-09-19T07:35:57.605488600Z"
    }
   },
   "id": "ae278b249ea7a821"
  },
  {
   "cell_type": "code",
   "execution_count": 37,
   "outputs": [
    {
     "name": "stdout",
     "output_type": "stream",
     "text": [
      "<class 'int'>\n"
     ]
    }
   ],
   "source": [
    "a = 55\n",
    "t = type(a)\n",
    "print(t)"
   ],
   "metadata": {
    "collapsed": false,
    "ExecuteTime": {
     "end_time": "2023-09-19T07:35:58.799614300Z",
     "start_time": "2023-09-19T07:35:57.625326Z"
    }
   },
   "id": "1910ac2b4e8f4de4"
  },
  {
   "cell_type": "markdown",
   "source": [
    "# Примеры создания перенных в Python"
   ],
   "metadata": {
    "collapsed": false
   },
   "id": "4a83b2d4de674a1c"
  },
  {
   "cell_type": "code",
   "execution_count": 38,
   "outputs": [],
   "source": [
    "i = 777  #int"
   ],
   "metadata": {
    "collapsed": false,
    "ExecuteTime": {
     "end_time": "2023-09-19T07:35:58.862113100Z",
     "start_time": "2023-09-19T07:35:57.646711900Z"
    }
   },
   "id": "d81fd093c3bffb5b"
  },
  {
   "cell_type": "code",
   "execution_count": 39,
   "outputs": [
    {
     "data": {
      "text/plain": "int"
     },
     "execution_count": 39,
     "metadata": {},
     "output_type": "execute_result"
    }
   ],
   "source": [
    "type(i)"
   ],
   "metadata": {
    "collapsed": false,
    "ExecuteTime": {
     "end_time": "2023-09-19T07:35:58.971487400Z",
     "start_time": "2023-09-19T07:35:57.675299600Z"
    }
   },
   "id": "8f4ec5bc2548eff5"
  },
  {
   "cell_type": "code",
   "execution_count": 40,
   "outputs": [],
   "source": [
    "f = 6.6  #float"
   ],
   "metadata": {
    "collapsed": false,
    "ExecuteTime": {
     "end_time": "2023-09-19T07:35:58.971487400Z",
     "start_time": "2023-09-19T07:35:57.696692700Z"
    }
   },
   "id": "43a20ac781df79fd"
  },
  {
   "cell_type": "code",
   "execution_count": 41,
   "outputs": [
    {
     "data": {
      "text/plain": "float"
     },
     "execution_count": 41,
     "metadata": {},
     "output_type": "execute_result"
    }
   ],
   "source": [
    "type(f)"
   ],
   "metadata": {
    "collapsed": false,
    "ExecuteTime": {
     "end_time": "2023-09-19T07:35:58.987109500Z",
     "start_time": "2023-09-19T07:35:57.714501300Z"
    }
   },
   "id": "e8ecda61c50d39d9"
  },
  {
   "cell_type": "code",
   "execution_count": 42,
   "outputs": [],
   "source": [
    "b = True  #boolean variable"
   ],
   "metadata": {
    "collapsed": false,
    "ExecuteTime": {
     "end_time": "2023-09-19T07:35:58.987109500Z",
     "start_time": "2023-09-19T07:35:57.733082100Z"
    }
   },
   "id": "d5f6516968aabbf7"
  },
  {
   "cell_type": "code",
   "execution_count": 43,
   "outputs": [],
   "source": [
    "s = \"Hello, Adelia\""
   ],
   "metadata": {
    "collapsed": false,
    "ExecuteTime": {
     "end_time": "2023-09-19T07:35:58.987109500Z",
     "start_time": "2023-09-19T07:35:57.767522700Z"
    }
   },
   "id": "561a2e4d186feb76"
  },
  {
   "cell_type": "code",
   "execution_count": 44,
   "outputs": [
    {
     "name": "stdout",
     "output_type": "stream",
     "text": [
      "Hello, Adelia\n"
     ]
    }
   ],
   "source": [
    "print(s)"
   ],
   "metadata": {
    "collapsed": false,
    "ExecuteTime": {
     "end_time": "2023-09-19T07:35:58.987109500Z",
     "start_time": "2023-09-19T07:35:57.771511100Z"
    }
   },
   "id": "5cce663724ec0b4a"
  },
  {
   "cell_type": "markdown",
   "source": [
    " # Advanced Python types\n",
    " "
   ],
   "metadata": {
    "collapsed": false
   },
   "id": "3e739a1d19713dd2"
  },
  {
   "cell_type": "code",
   "execution_count": 45,
   "outputs": [],
   "source": [
    "l = [98, 99, 100]"
   ],
   "metadata": {
    "collapsed": false,
    "ExecuteTime": {
     "end_time": "2023-09-19T07:35:58.987109500Z",
     "start_time": "2023-09-19T07:35:57.792878700Z"
    }
   },
   "id": "cf30c05cb5993d94"
  },
  {
   "cell_type": "code",
   "execution_count": 46,
   "outputs": [
    {
     "name": "stdout",
     "output_type": "stream",
     "text": [
      "[98, 99, 100]\n"
     ]
    }
   ],
   "source": [
    "print(l)"
   ],
   "metadata": {
    "collapsed": false,
    "ExecuteTime": {
     "end_time": "2023-09-19T07:35:58.987109500Z",
     "start_time": "2023-09-19T07:35:57.808141800Z"
    }
   },
   "id": "992556a9ae1213ef"
  },
  {
   "cell_type": "code",
   "execution_count": 47,
   "outputs": [],
   "source": [
    "d = {'a': 1, 'del': 5.5, 'ka': 'my first dictionary'}  #dictionary"
   ],
   "metadata": {
    "collapsed": false,
    "ExecuteTime": {
     "end_time": "2023-09-19T07:35:58.987109500Z",
     "start_time": "2023-09-19T07:35:57.824996900Z"
    }
   },
   "id": "b194c800050a7515"
  },
  {
   "cell_type": "code",
   "execution_count": 48,
   "outputs": [
    {
     "name": "stdout",
     "output_type": "stream",
     "text": [
      "{'a': 1, 'del': 5.5, 'ka': 'my first dictionary'}\n",
      "1\n"
     ]
    }
   ],
   "source": [
    "print(d)\n",
    "print(d['a'])  #element of a dictionary"
   ],
   "metadata": {
    "collapsed": false,
    "ExecuteTime": {
     "end_time": "2023-09-19T07:35:58.987109500Z",
     "start_time": "2023-09-19T07:35:57.838828900Z"
    }
   },
   "id": "26c99f560d9edb3e"
  },
  {
   "cell_type": "code",
   "execution_count": 49,
   "outputs": [],
   "source": [
    "n = None  #Python's null type"
   ],
   "metadata": {
    "collapsed": false,
    "ExecuteTime": {
     "end_time": "2023-09-19T07:35:58.987109500Z",
     "start_time": "2023-09-19T07:35:57.858886900Z"
    }
   },
   "id": "95e4e5970281cb8"
  },
  {
   "cell_type": "code",
   "execution_count": 50,
   "outputs": [
    {
     "data": {
      "text/plain": "NoneType"
     },
     "execution_count": 50,
     "metadata": {},
     "output_type": "execute_result"
    }
   ],
   "source": [
    "type(n)"
   ],
   "metadata": {
    "collapsed": false,
    "ExecuteTime": {
     "end_time": "2023-09-19T07:35:58.987109500Z",
     "start_time": "2023-09-19T07:35:57.872765700Z"
    }
   },
   "id": "e16625dd4ac11e92"
  },
  {
   "cell_type": "markdown",
   "source": [
    "# Выполнение математических операций и функций"
   ],
   "metadata": {
    "collapsed": false
   },
   "id": "e77be4afc4f6ea23"
  },
  {
   "cell_type": "markdown",
   "source": [
    "## Для выполнения элементарных математических функций необходимо подключить библиотеку math\n"
   ],
   "metadata": {
    "collapsed": false
   },
   "id": "e086cb33735a5334"
  },
  {
   "cell_type": "code",
   "execution_count": 51,
   "outputs": [
    {
     "name": "stdout",
     "output_type": "stream",
     "text": [
      "Возведение числа 15 в квадрат 225.0\n"
     ]
    }
   ],
   "source": [
    "import math\n",
    "\n",
    "p = math.pow(15, 2)\n",
    "print('Возведение числа 15 в квадрат', p)"
   ],
   "metadata": {
    "collapsed": false,
    "ExecuteTime": {
     "end_time": "2023-09-19T07:35:58.987109500Z",
     "start_time": "2023-09-19T07:35:57.892182100Z"
    }
   },
   "id": "50e0242a9aaebc48"
  },
  {
   "cell_type": "code",
   "execution_count": 52,
   "outputs": [
    {
     "name": "stdout",
     "output_type": "stream",
     "text": [
      "Квадратный корень числа 16 : 4.0\n"
     ]
    }
   ],
   "source": [
    "n = math.sqrt(16)  #Получение квадратного корня \n",
    "print('Квадратный корень числа 16 :', n)"
   ],
   "metadata": {
    "collapsed": false,
    "ExecuteTime": {
     "end_time": "2023-09-19T07:35:59.002734500Z",
     "start_time": "2023-09-19T07:35:57.906149100Z"
    }
   },
   "id": "55675d43fc436c2"
  },
  {
   "cell_type": "code",
   "execution_count": 53,
   "outputs": [
    {
     "name": "stdout",
     "output_type": "stream",
     "text": [
      "5\n"
     ]
    }
   ],
   "source": [
    "x = 4.8\n",
    "print(round(x))  #Округление числа до ближайшего целого"
   ],
   "metadata": {
    "collapsed": false,
    "ExecuteTime": {
     "end_time": "2023-09-19T07:35:59.002734500Z",
     "start_time": "2023-09-19T07:35:57.923468400Z"
    }
   },
   "id": "e7c63caf56e6b069"
  },
  {
   "cell_type": "code",
   "execution_count": 54,
   "outputs": [
    {
     "name": "stdout",
     "output_type": "stream",
     "text": [
      "99\n",
      "2\n"
     ]
    }
   ],
   "source": [
    "num = [4, 5, 2, 10, 99]\n",
    "print(max(num))  #Наибольшее значение из заданных чисел\n",
    "print(min(num))  #Наименьшее значение из заданных чисел"
   ],
   "metadata": {
    "collapsed": false,
    "ExecuteTime": {
     "end_time": "2023-09-19T07:35:59.002734500Z",
     "start_time": "2023-09-19T07:35:57.938325400Z"
    }
   },
   "id": "99d2fa7b8717963d"
  },
  {
   "cell_type": "markdown",
   "source": [
    "# Advanced printing\n"
   ],
   "metadata": {
    "collapsed": false
   },
   "id": "dca665ba8f630420"
  },
  {
   "cell_type": "code",
   "execution_count": 55,
   "outputs": [
    {
     "name": "stdout",
     "output_type": "stream",
     "text": [
      "Our first value is False. Our second value is 5.\n"
     ]
    }
   ],
   "source": [
    "i = 5\n",
    "n = False\n",
    "print('Our first value is %s. Our second value is %s.' % (n, i))"
   ],
   "metadata": {
    "collapsed": false,
    "ExecuteTime": {
     "end_time": "2023-09-19T07:35:59.002734500Z",
     "start_time": "2023-09-19T07:35:57.957922Z"
    }
   },
   "id": "e46be55b8bbf5acc"
  },
  {
   "cell_type": "markdown",
   "source": [
    "# Conditional statements in Python"
   ],
   "metadata": {
    "collapsed": false
   },
   "id": "952e06d3b288cb4"
  },
  {
   "cell_type": "code",
   "execution_count": 56,
   "outputs": [
    {
     "name": "stdout",
     "output_type": "stream",
     "text": [
      "i or f are both greater than 15.\n"
     ]
    }
   ],
   "source": [
    "i = 15\n",
    "f = 15.5\n",
    "if i == 5 and f > 15:\n",
    "    print(\"The value of i is 5 anf f greater than 4.\")\n",
    "elif i > 15 or f > 15:\n",
    "    print(\"i or f are both greater than 15.\")\n",
    "else:\n",
    "    print(\"both i and f are less than or equal to 15.\")"
   ],
   "metadata": {
    "collapsed": false,
    "ExecuteTime": {
     "end_time": "2023-09-19T07:35:59.002734500Z",
     "start_time": "2023-09-19T07:35:57.974067300Z"
    }
   },
   "id": "52df2c1d87a852c8"
  },
  {
   "cell_type": "markdown",
   "source": [
    "# Conditional loops\n"
   ],
   "metadata": {
    "collapsed": false
   },
   "id": "b53d27f2e64d1e91"
  },
  {
   "cell_type": "code",
   "execution_count": 57,
   "outputs": [
    {
     "name": "stdout",
     "output_type": "stream",
     "text": [
      "[34, 35, 36]\n"
     ]
    }
   ],
   "source": [
    "l = [34, 35, 36]  #list\n",
    "print(l)"
   ],
   "metadata": {
    "collapsed": false,
    "ExecuteTime": {
     "end_time": "2023-09-19T07:35:59.002734500Z",
     "start_time": "2023-09-19T07:35:58.002879700Z"
    }
   },
   "id": "f93f708bea0f6378"
  },
  {
   "cell_type": "code",
   "execution_count": 58,
   "outputs": [
    {
     "name": "stdout",
     "output_type": "stream",
     "text": [
      "34\n",
      "35\n",
      "36\n"
     ]
    }
   ],
   "source": [
    "for e in l:\n",
    "    print(e)"
   ],
   "metadata": {
    "collapsed": false,
    "ExecuteTime": {
     "end_time": "2023-09-19T07:35:59.002734500Z",
     "start_time": "2023-09-19T07:35:58.016546600Z"
    }
   },
   "id": "74de3a47cad3ff0a"
  },
  {
   "cell_type": "code",
   "execution_count": 59,
   "outputs": [
    {
     "name": "stdout",
     "output_type": "stream",
     "text": [
      "Это числа от 0 до 50: 0\n",
      "Это числа от 0 до 50: 1\n",
      "Это числа от 0 до 50: 2\n",
      "Это числа от 0 до 50: 3\n",
      "Это числа от 0 до 50: 4\n",
      "Это числа от 0 до 50: 5\n",
      "Это числа от 0 до 50: 6\n",
      "Это числа от 0 до 50: 7\n",
      "Это числа от 0 до 50: 8\n",
      "Это числа от 0 до 50: 9\n",
      "Это числа от 0 до 50: 10\n",
      "Это числа от 0 до 50: 11\n",
      "Это числа от 0 до 50: 12\n",
      "Это числа от 0 до 50: 13\n",
      "Это числа от 0 до 50: 14\n",
      "Это числа от 0 до 50: 15\n",
      "Это числа от 0 до 50: 16\n",
      "Это числа от 0 до 50: 17\n",
      "Это числа от 0 до 50: 18\n",
      "Это числа от 0 до 50: 19\n",
      "Это числа от 0 до 50: 20\n",
      "Это числа от 0 до 50: 21\n",
      "Это числа от 0 до 50: 22\n",
      "Это числа от 0 до 50: 23\n",
      "Это числа от 0 до 50: 24\n",
      "Это числа от 0 до 50: 25\n",
      "Это числа от 0 до 50: 26\n",
      "Это числа от 0 до 50: 27\n",
      "Это числа от 0 до 50: 28\n",
      "Это числа от 0 до 50: 29\n",
      "Это числа от 0 до 50: 30\n",
      "Это числа от 0 до 50: 31\n",
      "Это числа от 0 до 50: 32\n",
      "Это числа от 0 до 50: 33\n",
      "Это числа от 0 до 50: 34\n",
      "Это числа от 0 до 50: 35\n",
      "Это числа от 0 до 50: 36\n",
      "Это числа от 0 до 50: 37\n",
      "Это числа от 0 до 50: 38\n",
      "Это числа от 0 до 50: 39\n",
      "Это числа от 0 до 50: 40\n",
      "Это числа от 0 до 50: 41\n",
      "Это числа от 0 до 50: 42\n",
      "Это числа от 0 до 50: 43\n",
      "Это числа от 0 до 50: 44\n",
      "Это числа от 0 до 50: 45\n",
      "Это числа от 0 до 50: 46\n",
      "Это числа от 0 до 50: 47\n",
      "Это числа от 0 до 50: 48\n",
      "Это числа от 0 до 50: 49\n"
     ]
    }
   ],
   "source": [
    "for n in range(50):  #Оператор for … in\n",
    "    print('Это числа от 0 до 50:', n)"
   ],
   "metadata": {
    "collapsed": false,
    "ExecuteTime": {
     "end_time": "2023-09-19T07:35:59.002734500Z",
     "start_time": "2023-09-19T07:35:58.034016700Z"
    }
   },
   "id": "9ba19435f331fda2"
  },
  {
   "cell_type": "code",
   "execution_count": 60,
   "outputs": [
    {
     "name": "stdout",
     "output_type": "stream",
     "text": [
      "Number: 0\n",
      "Number: 1\n",
      "Number: 2\n"
     ]
    },
    {
     "ename": "KeyboardInterrupt",
     "evalue": "",
     "output_type": "error",
     "traceback": [
      "\u001B[1;31m---------------------------------------------------------------------------\u001B[0m",
      "\u001B[1;31mKeyboardInterrupt\u001B[0m                         Traceback (most recent call last)",
      "Cell \u001B[1;32mIn[60], line 4\u001B[0m\n\u001B[0;32m      1\u001B[0m \u001B[38;5;28;01mimport\u001B[39;00m \u001B[38;5;21;01mtime\u001B[39;00m\n\u001B[0;32m      3\u001B[0m \u001B[38;5;28;01mfor\u001B[39;00m n \u001B[38;5;129;01min\u001B[39;00m \u001B[38;5;28mrange\u001B[39m(\u001B[38;5;241m50\u001B[39m):  \u001B[38;5;66;03m#Вывод натуральных чисел с задержкой в 2 сек\u001B[39;00m\n\u001B[1;32m----> 4\u001B[0m     \u001B[43mtime\u001B[49m\u001B[38;5;241;43m.\u001B[39;49m\u001B[43msleep\u001B[49m\u001B[43m(\u001B[49m\u001B[38;5;241;43m2\u001B[39;49m\u001B[43m)\u001B[49m\n\u001B[0;32m      5\u001B[0m     \u001B[38;5;28mprint\u001B[39m(\u001B[38;5;124m'\u001B[39m\u001B[38;5;124mNumber:\u001B[39m\u001B[38;5;124m'\u001B[39m, n)\n",
      "\u001B[1;31mKeyboardInterrupt\u001B[0m: "
     ]
    }
   ],
   "source": [
    "import time\n",
    "\n",
    "for n in range(50):  #Вывод натуральных чисел с задержкой в 2 сек\n",
    "    time.sleep(2)\n",
    "    print('Number:', n)"
   ],
   "metadata": {
    "collapsed": false,
    "ExecuteTime": {
     "end_time": "2023-09-19T07:36:06.097265700Z",
     "start_time": "2023-09-19T07:35:58.049628600Z"
    }
   },
   "id": "e08ce9afbfaa92a8"
  },
  {
   "cell_type": "code",
   "execution_count": null,
   "outputs": [],
   "source": [
    "counter = 1\n",
    "while counter < 10:  #Выполнение цикла while\n",
    "    print(counter)\n",
    "    counter += 1"
   ],
   "metadata": {
    "collapsed": false,
    "ExecuteTime": {
     "end_time": "2023-09-19T07:36:06.112894500Z",
     "start_time": "2023-09-19T07:36:06.097265700Z"
    }
   },
   "id": "b2703b23aebab4a8"
  },
  {
   "cell_type": "markdown",
   "source": [
    "# Creating functions in Python"
   ],
   "metadata": {
    "collapsed": false
   },
   "id": "e7a4c9b8f9319d69"
  },
  {
   "cell_type": "markdown",
   "source": [
    "### Again, we don't use {}, but just indent the lines that are part of the function."
   ],
   "metadata": {
    "collapsed": false
   },
   "id": "2ad9d5d633c3b55d"
  },
  {
   "cell_type": "code",
   "execution_count": null,
   "outputs": [],
   "source": [
    "def add5(x):\n",
    "    y = x + 5\n",
    "    return y\n",
    "\n",
    "\n",
    "i = 8\n",
    "add5(i)"
   ],
   "metadata": {
    "collapsed": false,
    "ExecuteTime": {
     "start_time": "2023-09-19T07:36:06.097265700Z"
    }
   },
   "id": "c50b5399b4e6d655"
  },
  {
   "cell_type": "markdown",
   "source": [
    "## We can also define simple functions with lambdas:"
   ],
   "metadata": {
    "collapsed": false
   },
   "id": "1a4117759e2e1b4c"
  },
  {
   "cell_type": "code",
   "execution_count": null,
   "outputs": [],
   "source": [
    "square = lambda x: x * x\n",
    "square(25)"
   ],
   "metadata": {
    "collapsed": false,
    "ExecuteTime": {
     "start_time": "2023-09-19T07:36:06.112894500Z"
    }
   },
   "id": "2edb2829c75998d8"
  },
  {
   "cell_type": "code",
   "execution_count": null,
   "outputs": [],
   "source": [
    "x = lambda a, b: a * b\n",
    "print(x(7, 8))"
   ],
   "metadata": {
    "collapsed": false,
    "ExecuteTime": {
     "end_time": "2023-09-19T07:36:06.128519900Z",
     "start_time": "2023-09-19T07:36:06.112894500Z"
    }
   },
   "id": "e073397b103febc0"
  },
  {
   "cell_type": "code",
   "execution_count": null,
   "outputs": [],
   "source": [
    "#Example\n",
    "#Sumarize argument a,b and c and return the result:\n",
    "\n",
    "x = lambda a, b, c: a + b + c\n",
    "print(x(7, 8, 2))"
   ],
   "metadata": {
    "collapsed": false,
    "ExecuteTime": {
     "start_time": "2023-09-19T07:36:06.128519900Z"
    }
   },
   "id": "7406e94bd573eaa1"
  },
  {
   "cell_type": "markdown",
   "source": [
    "# Дополнительные возможности среды Jyputer Notebook"
   ],
   "metadata": {
    "collapsed": false
   },
   "id": "b6d1d363abdfba9d"
  },
  {
   "cell_type": "markdown",
   "source": [
    "### 1. Заголовки h1-h6"
   ],
   "metadata": {
    "collapsed": false
   },
   "id": "a4204b87d1a5ec1f"
  },
  {
   "cell_type": "markdown",
   "source": [
    "<h1> Adelka 1 </h1>\n",
    "<h2> Adelka 2 </h2>\n",
    "<h3> Adelka 3 </h3>\n",
    "<h4> Adelka 4 </h4>\n",
    "<h5> Adelka 5 </h5>\n",
    "<h6> Adelka 6 </h6>"
   ],
   "metadata": {
    "collapsed": false
   },
   "id": "292650ccc5ac4820"
  },
  {
   "cell_type": "markdown",
   "source": [
    "### 2.Вставка изображений"
   ],
   "metadata": {
    "collapsed": false
   },
   "id": "8605b8f6f9c23f1c"
  },
  {
   "cell_type": "markdown",
   "source": [
    "<img src=\"peony.jpg\">\n",
    "<p>Peony</p>"
   ],
   "metadata": {
    "collapsed": false
   },
   "id": "77d4fd54142aa56f"
  },
  {
   "cell_type": "markdown",
   "source": [
    "### 3.Вставка математических формул с помощью встроенного редактора TeX"
   ],
   "metadata": {
    "collapsed": false
   },
   "id": "87b02178af3b6913"
  },
  {
   "cell_type": "markdown",
   "source": [
    "\\begin{education*}\n",
    "\\int_{a}^{b} f(x) dx\n",
    "\\end{education*}"
   ],
   "metadata": {
    "collapsed": false
   },
   "id": "8ca90eb05f365efe"
  },
  {
   "cell_type": "markdown",
   "source": [
    "Интеграл"
   ],
   "metadata": {
    "collapsed": false
   },
   "id": "63d0f05671e68f66"
  },
  {
   "cell_type": "markdown",
   "source": [
    "\\begin{education*}\n",
    "a_{n} = a_{1} + (n - 1)d\n",
    "\\end{education*}"
   ],
   "metadata": {
    "collapsed": false
   },
   "id": "6323531e6ccdf2d3"
  },
  {
   "cell_type": "markdown",
   "source": [
    "Формула арифметической прогрессии"
   ],
   "metadata": {
    "collapsed": false
   },
   "id": "ea13d141b485ff5a"
  },
  {
   "cell_type": "markdown",
   "source": [
    "\\begin{education*}\n",
    "c^2 = a^2 + b^2 - 2ab \\cdot \\cos(C)\n",
    "\\end{education*}"
   ],
   "metadata": {
    "collapsed": false
   },
   "id": "c0abbe75fe7d0bbc"
  },
  {
   "cell_type": "markdown",
   "source": [
    "Формула косинуса (закон косинусов)"
   ],
   "metadata": {
    "collapsed": false
   },
   "id": "ecdbb2e895fdd019"
  },
  {
   "cell_type": "code",
   "execution_count": 6,
   "outputs": [
    {
     "name": "stdout",
     "output_type": "stream",
     "text": [
      "\n",
      "Ќ бва®©Є  Їа®в®Є®«  IP ¤«п Windows\n",
      "\n",
      "\n",
      "Ђ¤ ЇвҐа Ethernet VirtualBox Host-Only Network:\n",
      "\n",
      "   DNS-бгддЁЄб Ї®¤Є«озҐ­Ёп . . . . . : \n",
      "   ‹®Є «м­л© IPv6- ¤аҐб Є ­ «  . . . : fe80::e5c3:917:9a75:17ea%16\n",
      "   IPv4- ¤аҐб. . . . . . . . . . . . : 192.168.56.1\n",
      "   Њ бЄ  Ї®¤бҐвЁ . . . . . . . . . . : 255.255.255.0\n",
      "   Ћб­®ў­®© и«о§. . . . . . . . . : \n",
      "\n",
      "Ђ¤ ЇвҐа ЎҐбЇа®ў®¤­®© «®Є «м­®© бҐвЁ Џ®¤Є«озҐ­ЁҐ Ї® «®Є «м­®© бҐвЁ* 1:\n",
      "\n",
      "   ‘®бв®п­ЁҐ баҐ¤л. . . . . . . . : ‘аҐ¤  ЇҐаҐ¤ зЁ ­Ґ¤®бвгЇ­ .\n",
      "   DNS-бгддЁЄб Ї®¤Є«озҐ­Ёп . . . . . : \n",
      "\n",
      "Ђ¤ ЇвҐа ЎҐбЇа®ў®¤­®© «®Є «м­®© бҐвЁ Џ®¤Є«озҐ­ЁҐ Ї® «®Є «м­®© бҐвЁ* 10:\n",
      "\n",
      "   ‘®бв®п­ЁҐ баҐ¤л. . . . . . . . : ‘аҐ¤  ЇҐаҐ¤ зЁ ­Ґ¤®бвгЇ­ .\n",
      "   DNS-бгддЁЄб Ї®¤Є«озҐ­Ёп . . . . . : \n",
      "\n",
      "Ђ¤ ЇвҐа ЎҐбЇа®ў®¤­®© «®Є «м­®© бҐвЁ ЃҐбЇа®ў®¤­ п бҐвм:\n",
      "\n",
      "   DNS-бгддЁЄб Ї®¤Є«озҐ­Ёп . . . . . : \n",
      "   ‹®Є «м­л© IPv6- ¤аҐб Є ­ «  . . . : fe80::d4dd:2b83:c64e:8997%11\n",
      "   IPv4- ¤аҐб. . . . . . . . . . . . : 192.168.43.37\n",
      "   Њ бЄ  Ї®¤бҐвЁ . . . . . . . . . . : 255.255.255.0\n",
      "   Ћб­®ў­®© и«о§. . . . . . . . . : 192.168.43.1\n",
      "\n",
      "Ђ¤ ЇвҐа Ethernet ‘ҐвҐў®Ґ Ї®¤Є«озҐ­ЁҐ Bluetooth:\n",
      "\n",
      "   ‘®бв®п­ЁҐ баҐ¤л. . . . . . . . : ‘аҐ¤  ЇҐаҐ¤ зЁ ­Ґ¤®бвгЇ­ .\n",
      "   DNS-бгддЁЄб Ї®¤Є«озҐ­Ёп . . . . . : \n"
     ]
    }
   ],
   "source": [
    "! ipconfig"
   ],
   "metadata": {
    "collapsed": false,
    "ExecuteTime": {
     "end_time": "2023-09-26T14:07:38.313425200Z",
     "start_time": "2023-09-26T14:07:38.019864800Z"
    }
   },
   "id": "427bb8009dc858b1"
  },
  {
   "cell_type": "code",
   "execution_count": 7,
   "outputs": [
    {
     "name": "stdout",
     "output_type": "stream",
     "text": [
      "\n",
      "ЋЎ¬Ґ­ Ї ЄҐв ¬Ё б google.com [173.194.222.100] б 32 Ў ©в ¬Ё ¤ ­­ле:\n",
      "ЋвўҐв ®в 173.194.222.100: зЁб«® Ў ©в=32 ўаҐ¬п=109¬б TTL=55\n",
      "ЋвўҐв ®в 173.194.222.100: зЁб«® Ў ©в=32 ўаҐ¬п=291¬б TTL=55\n",
      "ЋвўҐв ®в 173.194.222.100: зЁб«® Ў ©в=32 ўаҐ¬п=100¬б TTL=55\n",
      "ЋвўҐв ®в 173.194.222.100: зЁб«® Ў ©в=32 ўаҐ¬п=109¬б TTL=55\n",
      "\n",
      "‘в вЁбвЁЄ  Ping ¤«п 173.194.222.100:\n",
      "    Џ ЄҐв®ў: ®вЇа ў«Ґ­® = 4, Ї®«гзҐ­® = 4, Ї®вҐап­® = 0\n",
      "    (0% Ї®вҐам)\n",
      "ЏаЁЎ«Ё§ЁвҐ«м­®Ґ ўаҐ¬п ЇаЁҐ¬ -ЇҐаҐ¤ зЁ ў ¬б:\n",
      "    ЊЁ­Ё¬ «м­®Ґ = 100¬бҐЄ, Њ ЄбЁ¬ «м­®Ґ = 291 ¬бҐЄ, ‘аҐ¤­ҐҐ = 152 ¬бҐЄ\n"
     ]
    }
   ],
   "source": [
    "! ping google.com"
   ],
   "metadata": {
    "collapsed": false,
    "ExecuteTime": {
     "end_time": "2023-09-26T14:10:02.322193200Z",
     "start_time": "2023-09-26T14:09:58.685778500Z"
    }
   },
   "id": "aa0ce7453795b9a3"
  },
  {
   "cell_type": "code",
   "execution_count": null,
   "outputs": [],
   "source": [],
   "metadata": {
    "collapsed": false
   },
   "id": "f853741cd2a4949"
  }
 ],
 "metadata": {
  "kernelspec": {
   "display_name": "Python 3 (ipykernel)",
   "language": "python",
   "name": "python3"
  },
  "language_info": {
   "codemirror_mode": {
    "name": "ipython",
    "version": 3
   },
   "file_extension": ".py",
   "mimetype": "text/x-python",
   "name": "python",
   "nbconvert_exporter": "python",
   "pygments_lexer": "ipython3",
   "version": "3.11.5"
  }
 },
 "nbformat": 4,
 "nbformat_minor": 5
}
