{
 "cells": [
  {
   "cell_type": "markdown",
   "source": [
    "# 1. Использование команд библиотеки NumPy"
   ],
   "metadata": {
    "collapsed": false
   },
   "id": "1ed56326088e162d"
  },
  {
   "cell_type": "markdown",
   "source": [
    "* 1.1. Создайте одномерный массив my_array, в котором по порядку все числа до 100,\n",
    "кратные 5"
   ],
   "metadata": {
    "collapsed": false
   },
   "id": "811c8d58d301f7a0"
  },
  {
   "cell_type": "code",
   "execution_count": 24,
   "outputs": [
    {
     "name": "stdout",
     "output_type": "stream",
     "text": [
      "[  5  10  15  20  25  30  35  40  45  50  55  60  65  70  75  80  85  90\n",
      "  95 100]\n"
     ]
    }
   ],
   "source": [
    "import numpy as np\n",
    "\n",
    "my_array = np.arange(5, 101, 5)\n",
    "print(my_array)"
   ],
   "metadata": {
    "collapsed": false,
    "ExecuteTime": {
     "end_time": "2023-10-03T11:10:07.698972200Z",
     "start_time": "2023-10-03T11:10:06.767393300Z"
    }
   },
   "id": "c3cf49d2adbc6d4b"
  },
  {
   "cell_type": "markdown",
   "source": [
    "*  2.1. Из полученного массива получить массив с кратными 10 числами"
   ],
   "metadata": {
    "collapsed": false
   },
   "id": "a946a84a736ed018"
  },
  {
   "cell_type": "code",
   "execution_count": 25,
   "outputs": [
    {
     "name": "stdout",
     "output_type": "stream",
     "text": [
      "[ 10  20  30  40  50  60  70  80  90 100]\n"
     ]
    }
   ],
   "source": [
    "# Выполняем операцию фильтрации\n",
    "new10_array = my_array[my_array % 10 == 0]\n",
    "print(new10_array)"
   ],
   "metadata": {
    "collapsed": false,
    "ExecuteTime": {
     "end_time": "2023-10-03T11:10:07.752187700Z",
     "start_time": "2023-10-03T11:10:06.796717500Z"
    }
   },
   "id": "621d09dc2f853eb4"
  },
  {
   "cell_type": "markdown",
   "source": [
    "* 3.1 Получить двумерный массив с двумя столбцами"
   ],
   "metadata": {
    "collapsed": false
   },
   "id": "cdf62df37a821a4"
  },
  {
   "cell_type": "code",
   "execution_count": 26,
   "outputs": [
    {
     "name": "stdout",
     "output_type": "stream",
     "text": [
      "[[ 10  20]\n",
      " [ 30  40]\n",
      " [ 50  60]\n",
      " [ 70  80]\n",
      " [ 90 100]]\n"
     ]
    }
   ],
   "source": [
    "# Преобразование в двумерный массив с двумя столбцами\n",
    "new2st_array = new10_array.reshape(-1, 2)\n",
    "print(new2st_array)"
   ],
   "metadata": {
    "collapsed": false,
    "ExecuteTime": {
     "end_time": "2023-10-03T11:10:07.814469400Z",
     "start_time": "2023-10-03T11:10:06.819207600Z"
    }
   },
   "id": "359afc5db76d6382"
  },
  {
   "cell_type": "markdown",
   "source": [
    "* 4.1 Получите набор my_second_array, в котором все элементы меньше предыдущего исходного на 5"
   ],
   "metadata": {
    "collapsed": false
   },
   "id": "bcc6e9f6e0e7141d"
  },
  {
   "cell_type": "code",
   "execution_count": 27,
   "outputs": [
    {
     "name": "stdout",
     "output_type": "stream",
     "text": [
      "[[ 5 15]\n",
      " [25 35]\n",
      " [45 55]\n",
      " [65 75]\n",
      " [85 95]]\n"
     ]
    }
   ],
   "source": [
    "my_second_array = new2st_array - 5\n",
    "print(my_second_array)"
   ],
   "metadata": {
    "collapsed": false,
    "ExecuteTime": {
     "end_time": "2023-10-03T11:10:07.861344500Z",
     "start_time": "2023-10-03T11:10:06.841351200Z"
    }
   },
   "id": "6a01a228f8470aab"
  },
  {
   "cell_type": "markdown",
   "source": [
    "* 5.1 Соедините массивы, полученные в п. 3.1 и 4.1, горизонтально. Используйте .T для транспонирования матрицы.\n"
   ],
   "metadata": {
    "collapsed": false
   },
   "id": "28ed5169d2a0496c"
  },
  {
   "cell_type": "code",
   "execution_count": 28,
   "outputs": [
    {
     "name": "stdout",
     "output_type": "stream",
     "text": [
      "[[ 10.  20.   5.  15.]\n",
      " [ 30.  40.  25.  35.]\n",
      " [ 50.  60.  45.  55.]\n",
      " [ 70.  80.  65.  75.]\n",
      " [ 90. 100.  85.  95.]]\n"
     ]
    }
   ],
   "source": [
    "combined_array = (np.hstack((new2st_array, my_second_array),dtype=float))\n",
    "print(combined_array)"
   ],
   "metadata": {
    "collapsed": false,
    "ExecuteTime": {
     "end_time": "2023-10-03T11:10:07.892597800Z",
     "start_time": "2023-10-03T11:10:06.894163400Z"
    }
   },
   "id": "639067a9349059c9"
  },
  {
   "cell_type": "markdown",
   "source": [
    "* 6.1 Разделите 2 и 3 строку на 4 верхних строки my_array. Используйте .T для транспонирования матрицы\n"
   ],
   "metadata": {
    "collapsed": false
   },
   "id": "fa8e2d5774667aea"
  },
  {
   "cell_type": "code",
   "execution_count": 29,
   "outputs": [
    {
     "name": "stdout",
     "output_type": "stream",
     "text": [
      "[[10.         30.         50.         70.         90.        ]\n",
      " [ 2.          1.33333333  1.2         1.14285714  1.11111111]\n",
      " [ 0.25        0.625       0.75        0.8125      0.85      ]\n",
      " [15.         35.         55.         75.         95.        ]]\n"
     ]
    }
   ],
   "source": [
    "combined_array.T[1]=(combined_array.T[1]/new2st_array.T[0]).reshape(-1,5)\n",
    "combined_array.T[2]=(combined_array.T[2]/new2st_array.T[1]).reshape(-1,5)\n",
    "print(combined_array.T)"
   ],
   "metadata": {
    "collapsed": false,
    "ExecuteTime": {
     "end_time": "2023-10-03T11:10:07.955091700Z",
     "start_time": "2023-10-03T11:10:06.915157300Z"
    }
   },
   "id": "dc215f59aad6377b"
  },
  {
   "cell_type": "markdown",
   "source": [
    "* 7.1 Оставить только те значения, которые не изменились после деления"
   ],
   "metadata": {
    "collapsed": false
   },
   "id": "98633750a65de902"
  },
  {
   "cell_type": "code",
   "execution_count": 30,
   "outputs": [
    {
     "name": "stdout",
     "output_type": "stream",
     "text": [
      "[[10. 30. 50. 70. 90.]\n",
      " [15. 35. 55. 75. 95.]]\n"
     ]
    }
   ],
   "source": [
    "no_changed_values = np.delete(combined_array.T, [1,2], axis=0)\n",
    "print(no_changed_values)"
   ],
   "metadata": {
    "collapsed": false,
    "ExecuteTime": {
     "end_time": "2023-10-03T11:10:08.017593400Z",
     "start_time": "2023-10-03T11:10:06.951116900Z"
    }
   },
   "id": "37d7a3322e42293"
  },
  {
   "cell_type": "markdown",
   "source": [
    "* 8.1 Снова получить трехстрочный двумерный массив и поменять местами первую и третью строки\n"
   ],
   "metadata": {
    "collapsed": false
   },
   "id": "7018815fa98e3c13"
  },
  {
   "cell_type": "code",
   "execution_count": 31,
   "outputs": [
    {
     "name": "stdout",
     "output_type": "stream",
     "text": [
      "Original three row array:\n",
      " [[ 5 15]\n",
      " [25 35]\n",
      " [45 55]]\n",
      "Transposed three row array after swapping places:\n",
      " [[45 55]\n",
      " [25 35]\n",
      " [ 5 15]]\n"
     ]
    }
   ],
   "source": [
    "new3_row_array = my_second_array[:3, :]\n",
    "print(\"Original three row array:\\n\", new3_row_array)\n",
    "new3_row_array[[0, 2]] = new3_row_array[[2, 0]]\n",
    "print(\"Transposed three row array after swapping places:\\n\", new3_row_array)"
   ],
   "metadata": {
    "collapsed": false,
    "ExecuteTime": {
     "end_time": "2023-10-03T11:10:08.017593400Z",
     "start_time": "2023-10-03T11:10:06.995272300Z"
    }
   },
   "id": "6ccb8fb32e46144"
  },
  {
   "cell_type": "markdown",
   "source": [
    "* 9.1 Получить среднее, медиану и стандартное отклонение для каждой строки, используя команды np.mean(), np.median(), np.std().\n"
   ],
   "metadata": {
    "collapsed": false
   },
   "id": "90378620610b09b9"
  },
  {
   "cell_type": "code",
   "execution_count": 32,
   "outputs": [
    {
     "name": "stdout",
     "output_type": "stream",
     "text": [
      "Mean deviation per row: \n",
      " [50. 30. 10.]\n",
      "Median deviation per row: \n",
      " [50. 30. 10.]\n",
      "Standard deviation per row: \n",
      " [5. 5. 5.]\n"
     ]
    }
   ],
   "source": [
    "deviation_mean = np.mean(new3_row_array, axis=1)\n",
    "print(\"Mean deviation per row: \\n\", deviation_mean)\n",
    "deviation_median = np.median(new3_row_array, axis=1)\n",
    "print(\"Median deviation per row: \\n\", deviation_median)\n",
    "standard_deviation = np.std(new3_row_array, axis=1)\n",
    "print(\"Standard deviation per row: \\n\", standard_deviation)"
   ],
   "metadata": {
    "collapsed": false,
    "ExecuteTime": {
     "end_time": "2023-10-03T11:10:08.200874600Z",
     "start_time": "2023-10-03T11:10:07.043197Z"
    }
   },
   "id": "9009eef0f2369233"
  },
  {
   "cell_type": "markdown",
   "source": [
    "* 10.1 Сделать нормализацию на максимальное значение вдоль строк, поделив каждый элемент массива на max() вдоль строк.\n"
   ],
   "metadata": {
    "collapsed": false
   },
   "id": "c68609b45cdcf948"
  },
  {
   "cell_type": "code",
   "execution_count": 33,
   "outputs": [
    {
     "name": "stdout",
     "output_type": "stream",
     "text": [
      "Normalized array:\n",
      " [[0.81818182 1.        ]\n",
      " [0.71428571 1.        ]\n",
      " [0.33333333 1.        ]]\n"
     ]
    }
   ],
   "source": [
    "# Используем np.divide для нормализации\n",
    "normalized_array = np.divide(new3_row_array, new3_row_array.max(axis=1, keepdims=True))\n",
    "print(\"Normalized array:\\n\", normalized_array)"
   ],
   "metadata": {
    "collapsed": false,
    "ExecuteTime": {
     "end_time": "2023-10-03T11:10:08.375046800Z",
     "start_time": "2023-10-03T11:10:07.104692500Z"
    }
   },
   "id": "b017951c86ec26ae"
  },
  {
   "cell_type": "markdown",
   "source": [
    "# 2. Использование команд библиотеки pandas"
   ],
   "metadata": {
    "collapsed": false
   },
   "id": "3a401e97df9bc504"
  },
  {
   "cell_type": "markdown",
   "source": [
    "* 2.1 Импортируйте данные из файла “Global Population Trends(2016-2022).csv”. Описание данных смотрите ниже."
   ],
   "metadata": {
    "collapsed": false
   },
   "id": "c8e7bd3b47a662f8"
  },
  {
   "cell_type": "code",
   "execution_count": 34,
   "outputs": [],
   "source": [
    "import pandas as pd\n",
    "global_trends_data= pd.read_csv('trends.csv')"
   ],
   "metadata": {
    "collapsed": false,
    "ExecuteTime": {
     "end_time": "2023-10-03T11:10:08.578164200Z",
     "start_time": "2023-10-03T11:10:07.141663200Z"
    }
   },
   "id": "a3add1a0c376579c"
  },
  {
   "cell_type": "markdown",
   "source": [
    "* 2.3 Считайте несколько первых записей таблицы (head())\n"
   ],
   "metadata": {
    "collapsed": false
   },
   "id": "43e6c61a47e3f5ac"
  },
  {
   "cell_type": "code",
   "execution_count": 35,
   "outputs": [
    {
     "data": {
      "text/plain": "       Country  Year Total Population Urban Population Rural Population  \\\n0  Afghanistan  2017                -                -                -   \n1  Afghanistan  2018       36,686,784        9,353,296       27,333,488   \n2  Afghanistan  2019       37,769,499        9,727,157       28,042,342   \n3  Afghanistan  2020       38,972,230       10,142,913       28,829,317   \n4  Afghanistan  2021       40,099,462       10,551,772       29,547,690   \n\n  Population Density Life Expectancy  Birth Rate  Death Rate Fertility Rate  \\\n0                 55            63.0      37.342       7.027          5.129   \n1                 56            63.0      36.927       6.981          5.002   \n2                 58            64.0      36.466       6.791           4.87   \n3                 60            63.0      36.051       7.113           4.75   \n4                  -            62.0      35.842       7.344          4.643   \n\n  Infant Mortality Rate Growth Rate  \n0                  49.4           -  \n1                  47.8         3.0  \n2                  46.3         3.0  \n3                  44.8         3.0  \n4                  43.4         3.0  ",
      "text/html": "<div>\n<style scoped>\n    .dataframe tbody tr th:only-of-type {\n        vertical-align: middle;\n    }\n\n    .dataframe tbody tr th {\n        vertical-align: top;\n    }\n\n    .dataframe thead th {\n        text-align: right;\n    }\n</style>\n<table border=\"1\" class=\"dataframe\">\n  <thead>\n    <tr style=\"text-align: right;\">\n      <th></th>\n      <th>Country</th>\n      <th>Year</th>\n      <th>Total Population</th>\n      <th>Urban Population</th>\n      <th>Rural Population</th>\n      <th>Population Density</th>\n      <th>Life Expectancy</th>\n      <th>Birth Rate</th>\n      <th>Death Rate</th>\n      <th>Fertility Rate</th>\n      <th>Infant Mortality Rate</th>\n      <th>Growth Rate</th>\n    </tr>\n  </thead>\n  <tbody>\n    <tr>\n      <th>0</th>\n      <td>Afghanistan</td>\n      <td>2017</td>\n      <td>-</td>\n      <td>-</td>\n      <td>-</td>\n      <td>55</td>\n      <td>63.0</td>\n      <td>37.342</td>\n      <td>7.027</td>\n      <td>5.129</td>\n      <td>49.4</td>\n      <td>-</td>\n    </tr>\n    <tr>\n      <th>1</th>\n      <td>Afghanistan</td>\n      <td>2018</td>\n      <td>36,686,784</td>\n      <td>9,353,296</td>\n      <td>27,333,488</td>\n      <td>56</td>\n      <td>63.0</td>\n      <td>36.927</td>\n      <td>6.981</td>\n      <td>5.002</td>\n      <td>47.8</td>\n      <td>3.0</td>\n    </tr>\n    <tr>\n      <th>2</th>\n      <td>Afghanistan</td>\n      <td>2019</td>\n      <td>37,769,499</td>\n      <td>9,727,157</td>\n      <td>28,042,342</td>\n      <td>58</td>\n      <td>64.0</td>\n      <td>36.466</td>\n      <td>6.791</td>\n      <td>4.87</td>\n      <td>46.3</td>\n      <td>3.0</td>\n    </tr>\n    <tr>\n      <th>3</th>\n      <td>Afghanistan</td>\n      <td>2020</td>\n      <td>38,972,230</td>\n      <td>10,142,913</td>\n      <td>28,829,317</td>\n      <td>60</td>\n      <td>63.0</td>\n      <td>36.051</td>\n      <td>7.113</td>\n      <td>4.75</td>\n      <td>44.8</td>\n      <td>3.0</td>\n    </tr>\n    <tr>\n      <th>4</th>\n      <td>Afghanistan</td>\n      <td>2021</td>\n      <td>40,099,462</td>\n      <td>10,551,772</td>\n      <td>29,547,690</td>\n      <td>-</td>\n      <td>62.0</td>\n      <td>35.842</td>\n      <td>7.344</td>\n      <td>4.643</td>\n      <td>43.4</td>\n      <td>3.0</td>\n    </tr>\n  </tbody>\n</table>\n</div>"
     },
     "execution_count": 35,
     "metadata": {},
     "output_type": "execute_result"
    }
   ],
   "source": [
    "global_trends_data.head()"
   ],
   "metadata": {
    "collapsed": false,
    "ExecuteTime": {
     "end_time": "2023-10-03T11:10:08.578164200Z",
     "start_time": "2023-10-03T11:10:07.233268600Z"
    }
   },
   "id": "d9eb19add691f51a"
  },
  {
   "cell_type": "markdown",
   "source": [
    "* 2.3 Определите размерность данного фрейма (shape())\n"
   ],
   "metadata": {
    "collapsed": false
   },
   "id": "26a823456d4ed868"
  },
  {
   "cell_type": "code",
   "execution_count": 36,
   "outputs": [
    {
     "data": {
      "text/plain": "(1073, 12)"
     },
     "execution_count": 36,
     "metadata": {},
     "output_type": "execute_result"
    }
   ],
   "source": [
    "global_trends_data.shape"
   ],
   "metadata": {
    "collapsed": false,
    "ExecuteTime": {
     "end_time": "2023-10-03T11:10:08.578164200Z",
     "start_time": "2023-10-03T11:10:07.299029800Z"
    }
   },
   "id": "5d87341bc4fc79de"
  },
  {
   "cell_type": "markdown",
   "source": [
    "* 2.4 Выведите название заголовков столбцов фрейма (columns)"
   ],
   "metadata": {
    "collapsed": false
   },
   "id": "76505f27cdf9e8b0"
  },
  {
   "cell_type": "code",
   "execution_count": 37,
   "outputs": [
    {
     "data": {
      "text/plain": "Index(['Country', 'Year', 'Total Population', 'Urban Population',\n       'Rural Population', 'Population Density', 'Life Expectancy',\n       'Birth Rate', 'Death Rate', 'Fertility Rate', 'Infant Mortality Rate',\n       'Growth Rate'],\n      dtype='object')"
     },
     "execution_count": 37,
     "metadata": {},
     "output_type": "execute_result"
    }
   ],
   "source": [
    "global_trends_data.columns"
   ],
   "metadata": {
    "collapsed": false,
    "ExecuteTime": {
     "end_time": "2023-10-03T11:10:08.593792Z",
     "start_time": "2023-10-03T11:10:07.328459100Z"
    }
   },
   "id": "d6c29bb64d555847"
  },
  {
   "cell_type": "markdown",
   "source": [
    "* 2.5 Получите описание всех переменных (полей) (info())\n"
   ],
   "metadata": {
    "collapsed": false
   },
   "id": "d5e071cc9e5a25ab"
  },
  {
   "cell_type": "code",
   "execution_count": 38,
   "outputs": [
    {
     "data": {
      "text/plain": "<bound method DataFrame.info of           Country  Year Total Population Urban Population Rural Population  \\\n0     Afghanistan  2017                -                -                -   \n1     Afghanistan  2018       36,686,784        9,353,296       27,333,488   \n2     Afghanistan  2019       37,769,499        9,727,157       28,042,342   \n3     Afghanistan  2020       38,972,230       10,142,913       28,829,317   \n4     Afghanistan  2021       40,099,462       10,551,772       29,547,690   \n...           ...   ...              ...              ...              ...   \n1068     Zimbabwe  2017                -                -                -   \n1069     Zimbabwe  2018       15,052,184        4,848,158       10,204,026   \n1070     Zimbabwe  2019       15,354,608        4,945,719       10,408,889   \n1071     Zimbabwe  2020       15,669,666        5,052,214       10,617,452   \n1072     Zimbabwe  2021       15,993,524        5,166,388       10,827,136   \n\n     Population Density Life Expectancy  Birth Rate  Death Rate  \\\n0                    55            63.0      37.342       7.027   \n1                    56            63.0      36.927       6.981   \n2                    58            64.0      36.466       6.791   \n3                    60            63.0      36.051       7.113   \n4                     -            62.0      35.842       7.344   \n...                 ...             ...         ...         ...   \n1068                 38            61.0      32.516       8.266   \n1069                 39            61.0      32.074       7.972   \n1070                 40            61.0      31.518       8.043   \n1071                 41            61.0      31.009       8.132   \n1072                  -            59.0      30.537       9.057   \n\n     Fertility Rate Infant Mortality Rate Growth Rate  \n0             5.129                  49.4           -  \n1             5.002                  47.8         3.0  \n2              4.87                  46.3         3.0  \n3              4.75                  44.8         3.0  \n4             4.643                  43.4         3.0  \n...             ...                   ...         ...  \n1068          3.706                  39.5           -  \n1069          3.659                  38.0         2.0  \n1070          3.599                  37.1         2.0  \n1071          3.545                  36.6         2.0  \n1072          3.491                  35.7         2.0  \n\n[1073 rows x 12 columns]>"
     },
     "execution_count": 38,
     "metadata": {},
     "output_type": "execute_result"
    }
   ],
   "source": [
    "global_trends_data.info"
   ],
   "metadata": {
    "collapsed": false,
    "ExecuteTime": {
     "end_time": "2023-10-03T11:10:08.593792Z",
     "start_time": "2023-10-03T11:10:07.392805600Z"
    }
   },
   "id": "fa170b0967c9a89d"
  },
  {
   "cell_type": "markdown",
   "source": [
    "* 2.6  Удалите строки, не содержащие значения в столбце «Total Population» - “-”"
   ],
   "metadata": {
    "collapsed": false
   },
   "id": "126fd22587750ed5"
  },
  {
   "cell_type": "code",
   "execution_count": 39,
   "outputs": [
    {
     "data": {
      "text/plain": "          Country  Year Total Population Urban Population Rural Population  \\\n1     Afghanistan  2018       36,686,784        9,353,296       27,333,488   \n2     Afghanistan  2019       37,769,499        9,727,157       28,042,342   \n3     Afghanistan  2020       38,972,230       10,142,913       28,829,317   \n4     Afghanistan  2021       40,099,462       10,551,772       29,547,690   \n6         Albania  2018        2,866,376        1,728,969        1,137,407   \n...           ...   ...              ...              ...              ...   \n1067       Zambia  2021       19,473,125        8,800,295       10,672,830   \n1069     Zimbabwe  2018       15,052,184        4,848,158       10,204,026   \n1070     Zimbabwe  2019       15,354,608        4,945,719       10,408,889   \n1071     Zimbabwe  2020       15,669,666        5,052,214       10,617,452   \n1072     Zimbabwe  2021       15,993,524        5,166,388       10,827,136   \n\n     Population Density Life Expectancy  Birth Rate  Death Rate  \\\n1                    56            63.0      36.927       6.981   \n2                    58            64.0      36.466       6.791   \n3                    60            63.0      36.051       7.113   \n4                     -            62.0      35.842       7.344   \n6                   105            79.0      10.517       8.308   \n...                 ...             ...         ...         ...   \n1067                  -            61.0      34.511       6.973   \n1069                 39            61.0      32.074       7.972   \n1070                 40            61.0      31.518       8.043   \n1071                 41            61.0      31.009       8.132   \n1072                  -            59.0      30.537       9.057   \n\n     Fertility Rate Infant Mortality Rate Growth Rate  \n1             5.002                  47.8         3.0  \n2              4.87                  46.3         3.0  \n3              4.75                  44.8         3.0  \n4             4.643                  43.4         3.0  \n6              1.44                   8.3         0.0  \n...             ...                   ...         ...  \n1067          4.308                  40.2         3.0  \n1069          3.659                  38.0         2.0  \n1070          3.599                  37.1         2.0  \n1071          3.545                  36.6         2.0  \n1072          3.491                  35.7         2.0  \n\n[864 rows x 12 columns]",
      "text/html": "<div>\n<style scoped>\n    .dataframe tbody tr th:only-of-type {\n        vertical-align: middle;\n    }\n\n    .dataframe tbody tr th {\n        vertical-align: top;\n    }\n\n    .dataframe thead th {\n        text-align: right;\n    }\n</style>\n<table border=\"1\" class=\"dataframe\">\n  <thead>\n    <tr style=\"text-align: right;\">\n      <th></th>\n      <th>Country</th>\n      <th>Year</th>\n      <th>Total Population</th>\n      <th>Urban Population</th>\n      <th>Rural Population</th>\n      <th>Population Density</th>\n      <th>Life Expectancy</th>\n      <th>Birth Rate</th>\n      <th>Death Rate</th>\n      <th>Fertility Rate</th>\n      <th>Infant Mortality Rate</th>\n      <th>Growth Rate</th>\n    </tr>\n  </thead>\n  <tbody>\n    <tr>\n      <th>1</th>\n      <td>Afghanistan</td>\n      <td>2018</td>\n      <td>36,686,784</td>\n      <td>9,353,296</td>\n      <td>27,333,488</td>\n      <td>56</td>\n      <td>63.0</td>\n      <td>36.927</td>\n      <td>6.981</td>\n      <td>5.002</td>\n      <td>47.8</td>\n      <td>3.0</td>\n    </tr>\n    <tr>\n      <th>2</th>\n      <td>Afghanistan</td>\n      <td>2019</td>\n      <td>37,769,499</td>\n      <td>9,727,157</td>\n      <td>28,042,342</td>\n      <td>58</td>\n      <td>64.0</td>\n      <td>36.466</td>\n      <td>6.791</td>\n      <td>4.87</td>\n      <td>46.3</td>\n      <td>3.0</td>\n    </tr>\n    <tr>\n      <th>3</th>\n      <td>Afghanistan</td>\n      <td>2020</td>\n      <td>38,972,230</td>\n      <td>10,142,913</td>\n      <td>28,829,317</td>\n      <td>60</td>\n      <td>63.0</td>\n      <td>36.051</td>\n      <td>7.113</td>\n      <td>4.75</td>\n      <td>44.8</td>\n      <td>3.0</td>\n    </tr>\n    <tr>\n      <th>4</th>\n      <td>Afghanistan</td>\n      <td>2021</td>\n      <td>40,099,462</td>\n      <td>10,551,772</td>\n      <td>29,547,690</td>\n      <td>-</td>\n      <td>62.0</td>\n      <td>35.842</td>\n      <td>7.344</td>\n      <td>4.643</td>\n      <td>43.4</td>\n      <td>3.0</td>\n    </tr>\n    <tr>\n      <th>6</th>\n      <td>Albania</td>\n      <td>2018</td>\n      <td>2,866,376</td>\n      <td>1,728,969</td>\n      <td>1,137,407</td>\n      <td>105</td>\n      <td>79.0</td>\n      <td>10.517</td>\n      <td>8.308</td>\n      <td>1.44</td>\n      <td>8.3</td>\n      <td>0.0</td>\n    </tr>\n    <tr>\n      <th>...</th>\n      <td>...</td>\n      <td>...</td>\n      <td>...</td>\n      <td>...</td>\n      <td>...</td>\n      <td>...</td>\n      <td>...</td>\n      <td>...</td>\n      <td>...</td>\n      <td>...</td>\n      <td>...</td>\n      <td>...</td>\n    </tr>\n    <tr>\n      <th>1067</th>\n      <td>Zambia</td>\n      <td>2021</td>\n      <td>19,473,125</td>\n      <td>8,800,295</td>\n      <td>10,672,830</td>\n      <td>-</td>\n      <td>61.0</td>\n      <td>34.511</td>\n      <td>6.973</td>\n      <td>4.308</td>\n      <td>40.2</td>\n      <td>3.0</td>\n    </tr>\n    <tr>\n      <th>1069</th>\n      <td>Zimbabwe</td>\n      <td>2018</td>\n      <td>15,052,184</td>\n      <td>4,848,158</td>\n      <td>10,204,026</td>\n      <td>39</td>\n      <td>61.0</td>\n      <td>32.074</td>\n      <td>7.972</td>\n      <td>3.659</td>\n      <td>38.0</td>\n      <td>2.0</td>\n    </tr>\n    <tr>\n      <th>1070</th>\n      <td>Zimbabwe</td>\n      <td>2019</td>\n      <td>15,354,608</td>\n      <td>4,945,719</td>\n      <td>10,408,889</td>\n      <td>40</td>\n      <td>61.0</td>\n      <td>31.518</td>\n      <td>8.043</td>\n      <td>3.599</td>\n      <td>37.1</td>\n      <td>2.0</td>\n    </tr>\n    <tr>\n      <th>1071</th>\n      <td>Zimbabwe</td>\n      <td>2020</td>\n      <td>15,669,666</td>\n      <td>5,052,214</td>\n      <td>10,617,452</td>\n      <td>41</td>\n      <td>61.0</td>\n      <td>31.009</td>\n      <td>8.132</td>\n      <td>3.545</td>\n      <td>36.6</td>\n      <td>2.0</td>\n    </tr>\n    <tr>\n      <th>1072</th>\n      <td>Zimbabwe</td>\n      <td>2021</td>\n      <td>15,993,524</td>\n      <td>5,166,388</td>\n      <td>10,827,136</td>\n      <td>-</td>\n      <td>59.0</td>\n      <td>30.537</td>\n      <td>9.057</td>\n      <td>3.491</td>\n      <td>35.7</td>\n      <td>2.0</td>\n    </tr>\n  </tbody>\n</table>\n<p>864 rows × 12 columns</p>\n</div>"
     },
     "execution_count": 39,
     "metadata": {},
     "output_type": "execute_result"
    }
   ],
   "source": [
    "df=global_trends_data[global_trends_data['Total Population']!='-']\n",
    "df"
   ],
   "metadata": {
    "collapsed": false,
    "ExecuteTime": {
     "end_time": "2023-10-03T11:10:08.593792Z",
     "start_time": "2023-10-03T11:10:07.427698300Z"
    }
   },
   "id": "2584739751c97ebf"
  },
  {
   "cell_type": "markdown",
   "source": [
    "* 2.7 Получите описательную статистику по переменным (например, max(), min(), describe())\n"
   ],
   "metadata": {
    "collapsed": false
   },
   "id": "62d88ee42401ee61"
  },
  {
   "cell_type": "code",
   "execution_count": 40,
   "outputs": [
    {
     "data": {
      "text/plain": "Country                    Zimbabwe\nYear                           2021\nTotal Population             99,258\nUrban Population         99,876,265\nRural Population            998,397\nPopulation Density               99\nLife Expectancy                85.0\nBirth Rate                   46.351\nDeath Rate                     21.7\nFertility Rate                7.084\nInfant Mortality Rate           9.9\nGrowth Rate                     5.0\ndtype: object"
     },
     "execution_count": 40,
     "metadata": {},
     "output_type": "execute_result"
    }
   ],
   "source": [
    "global_trends_data.max()\n"
   ],
   "metadata": {
    "collapsed": false,
    "ExecuteTime": {
     "end_time": "2023-10-03T11:10:08.609415700Z",
     "start_time": "2023-10-03T11:10:07.495389800Z"
    }
   },
   "id": "30b3433717534ed7"
  },
  {
   "cell_type": "code",
   "execution_count": 41,
   "outputs": [
    {
     "data": {
      "text/plain": "Country                  Afghanistan\nYear                            2017\nTotal Population                   -\nUrban Population                   -\nRural Population                   -\nPopulation Density                 -\nLife Expectancy                    -\nBirth Rate                       0.0\nDeath Rate                       0.0\nFertility Rate                     -\nInfant Mortality Rate              -\nGrowth Rate                        -\ndtype: object"
     },
     "execution_count": 41,
     "metadata": {},
     "output_type": "execute_result"
    }
   ],
   "source": [
    "global_trends_data.min()"
   ],
   "metadata": {
    "collapsed": false,
    "ExecuteTime": {
     "end_time": "2023-10-03T11:10:08.609415700Z",
     "start_time": "2023-10-03T11:10:07.520479600Z"
    }
   },
   "id": "c0056f2f5c7110a8"
  },
  {
   "cell_type": "code",
   "execution_count": 42,
   "outputs": [
    {
     "data": {
      "text/plain": "              Year   Birth Rate   Death Rate\ncount  1073.000000  1073.000000  1073.000000\nmean   2019.013048    18.801519     7.841907\nstd       1.410190     9.903449     2.973418\nmin    2017.000000     0.000000     0.000000\n25%    2018.000000    10.620000     6.067000\n50%    2019.000000    16.025000     7.396000\n75%    2020.000000    25.921000     9.313000\nmax    2021.000000    46.351000    21.700000",
      "text/html": "<div>\n<style scoped>\n    .dataframe tbody tr th:only-of-type {\n        vertical-align: middle;\n    }\n\n    .dataframe tbody tr th {\n        vertical-align: top;\n    }\n\n    .dataframe thead th {\n        text-align: right;\n    }\n</style>\n<table border=\"1\" class=\"dataframe\">\n  <thead>\n    <tr style=\"text-align: right;\">\n      <th></th>\n      <th>Year</th>\n      <th>Birth Rate</th>\n      <th>Death Rate</th>\n    </tr>\n  </thead>\n  <tbody>\n    <tr>\n      <th>count</th>\n      <td>1073.000000</td>\n      <td>1073.000000</td>\n      <td>1073.000000</td>\n    </tr>\n    <tr>\n      <th>mean</th>\n      <td>2019.013048</td>\n      <td>18.801519</td>\n      <td>7.841907</td>\n    </tr>\n    <tr>\n      <th>std</th>\n      <td>1.410190</td>\n      <td>9.903449</td>\n      <td>2.973418</td>\n    </tr>\n    <tr>\n      <th>min</th>\n      <td>2017.000000</td>\n      <td>0.000000</td>\n      <td>0.000000</td>\n    </tr>\n    <tr>\n      <th>25%</th>\n      <td>2018.000000</td>\n      <td>10.620000</td>\n      <td>6.067000</td>\n    </tr>\n    <tr>\n      <th>50%</th>\n      <td>2019.000000</td>\n      <td>16.025000</td>\n      <td>7.396000</td>\n    </tr>\n    <tr>\n      <th>75%</th>\n      <td>2020.000000</td>\n      <td>25.921000</td>\n      <td>9.313000</td>\n    </tr>\n    <tr>\n      <th>max</th>\n      <td>2021.000000</td>\n      <td>46.351000</td>\n      <td>21.700000</td>\n    </tr>\n  </tbody>\n</table>\n</div>"
     },
     "execution_count": 42,
     "metadata": {},
     "output_type": "execute_result"
    }
   ],
   "source": [
    "global_trends_data.describe()"
   ],
   "metadata": {
    "collapsed": false,
    "ExecuteTime": {
     "end_time": "2023-10-03T11:10:08.609415700Z",
     "start_time": "2023-10-03T11:10:07.545486800Z"
    }
   },
   "id": "ef9cc3cf08f28753"
  },
  {
   "cell_type": "markdown",
   "source": [
    "* 2.8 Выполните сортировку данных по нескольким критериям\n"
   ],
   "metadata": {
    "collapsed": false
   },
   "id": "8ec8de9e6f6f7e"
  },
  {
   "cell_type": "code",
   "execution_count": 43,
   "outputs": [
    {
     "data": {
      "text/plain": "            Country  Year Total Population Urban Population Rural Population  \\\n629          Monaco  2021           36,686           36,686                -   \n628          Monaco  2020           36,922           36,922                -   \n627          Monaco  2019           37,034           37,034                -   \n18   American Samoa  2021           45,035           39,257            5,778   \n16   American Samoa  2019           47,321           41,239            6,082   \n..              ...   ...              ...              ...              ...   \n863         Somalia  2017                -                -                -   \n693           Niger  2020       24,333,639        4,045,711       20,287,928   \n692           Niger  2019       23,443,393        3,872,145       19,571,248   \n691           Niger  2018       22,577,058        3,708,282       18,868,776   \n690           Niger  2017                -                -                -   \n\n    Population Density Life Expectancy  Birth Rate  Death Rate Fertility Rate  \\\n629                  -               -       0.000       0.000              -   \n628             18,215               -       0.000       0.000              -   \n627             18,270               -       0.000       0.000              -   \n18                   -               -       0.000       0.000              -   \n16                 237               -       0.000       0.000              -   \n..                 ...             ...         ...         ...            ...   \n863                 24            56.0      45.457      11.891          6.738   \n693                 19            61.0      45.588       8.281          6.892   \n692                 19            63.0      45.859       7.824          6.961   \n691                 18            62.0      46.127       8.061          7.023   \n690                 17            62.0      46.351       8.239          7.084   \n\n    Infant Mortality Rate Growth Rate  \n629                   1.0        -1.0  \n628                   1.0         0.0  \n627                   1.0         0.0  \n18                      -        -3.0  \n16                      -        -2.0  \n..                    ...         ...  \n863                  79.1           -  \n693                  59.9         4.0  \n692                  60.2         4.0  \n691                  60.4         4.0  \n690                  60.6           -  \n\n[1073 rows x 12 columns]",
      "text/html": "<div>\n<style scoped>\n    .dataframe tbody tr th:only-of-type {\n        vertical-align: middle;\n    }\n\n    .dataframe tbody tr th {\n        vertical-align: top;\n    }\n\n    .dataframe thead th {\n        text-align: right;\n    }\n</style>\n<table border=\"1\" class=\"dataframe\">\n  <thead>\n    <tr style=\"text-align: right;\">\n      <th></th>\n      <th>Country</th>\n      <th>Year</th>\n      <th>Total Population</th>\n      <th>Urban Population</th>\n      <th>Rural Population</th>\n      <th>Population Density</th>\n      <th>Life Expectancy</th>\n      <th>Birth Rate</th>\n      <th>Death Rate</th>\n      <th>Fertility Rate</th>\n      <th>Infant Mortality Rate</th>\n      <th>Growth Rate</th>\n    </tr>\n  </thead>\n  <tbody>\n    <tr>\n      <th>629</th>\n      <td>Monaco</td>\n      <td>2021</td>\n      <td>36,686</td>\n      <td>36,686</td>\n      <td>-</td>\n      <td>-</td>\n      <td>-</td>\n      <td>0.000</td>\n      <td>0.000</td>\n      <td>-</td>\n      <td>1.0</td>\n      <td>-1.0</td>\n    </tr>\n    <tr>\n      <th>628</th>\n      <td>Monaco</td>\n      <td>2020</td>\n      <td>36,922</td>\n      <td>36,922</td>\n      <td>-</td>\n      <td>18,215</td>\n      <td>-</td>\n      <td>0.000</td>\n      <td>0.000</td>\n      <td>-</td>\n      <td>1.0</td>\n      <td>0.0</td>\n    </tr>\n    <tr>\n      <th>627</th>\n      <td>Monaco</td>\n      <td>2019</td>\n      <td>37,034</td>\n      <td>37,034</td>\n      <td>-</td>\n      <td>18,270</td>\n      <td>-</td>\n      <td>0.000</td>\n      <td>0.000</td>\n      <td>-</td>\n      <td>1.0</td>\n      <td>0.0</td>\n    </tr>\n    <tr>\n      <th>18</th>\n      <td>American Samoa</td>\n      <td>2021</td>\n      <td>45,035</td>\n      <td>39,257</td>\n      <td>5,778</td>\n      <td>-</td>\n      <td>-</td>\n      <td>0.000</td>\n      <td>0.000</td>\n      <td>-</td>\n      <td>-</td>\n      <td>-3.0</td>\n    </tr>\n    <tr>\n      <th>16</th>\n      <td>American Samoa</td>\n      <td>2019</td>\n      <td>47,321</td>\n      <td>41,239</td>\n      <td>6,082</td>\n      <td>237</td>\n      <td>-</td>\n      <td>0.000</td>\n      <td>0.000</td>\n      <td>-</td>\n      <td>-</td>\n      <td>-2.0</td>\n    </tr>\n    <tr>\n      <th>...</th>\n      <td>...</td>\n      <td>...</td>\n      <td>...</td>\n      <td>...</td>\n      <td>...</td>\n      <td>...</td>\n      <td>...</td>\n      <td>...</td>\n      <td>...</td>\n      <td>...</td>\n      <td>...</td>\n      <td>...</td>\n    </tr>\n    <tr>\n      <th>863</th>\n      <td>Somalia</td>\n      <td>2017</td>\n      <td>-</td>\n      <td>-</td>\n      <td>-</td>\n      <td>24</td>\n      <td>56.0</td>\n      <td>45.457</td>\n      <td>11.891</td>\n      <td>6.738</td>\n      <td>79.1</td>\n      <td>-</td>\n    </tr>\n    <tr>\n      <th>693</th>\n      <td>Niger</td>\n      <td>2020</td>\n      <td>24,333,639</td>\n      <td>4,045,711</td>\n      <td>20,287,928</td>\n      <td>19</td>\n      <td>61.0</td>\n      <td>45.588</td>\n      <td>8.281</td>\n      <td>6.892</td>\n      <td>59.9</td>\n      <td>4.0</td>\n    </tr>\n    <tr>\n      <th>692</th>\n      <td>Niger</td>\n      <td>2019</td>\n      <td>23,443,393</td>\n      <td>3,872,145</td>\n      <td>19,571,248</td>\n      <td>19</td>\n      <td>63.0</td>\n      <td>45.859</td>\n      <td>7.824</td>\n      <td>6.961</td>\n      <td>60.2</td>\n      <td>4.0</td>\n    </tr>\n    <tr>\n      <th>691</th>\n      <td>Niger</td>\n      <td>2018</td>\n      <td>22,577,058</td>\n      <td>3,708,282</td>\n      <td>18,868,776</td>\n      <td>18</td>\n      <td>62.0</td>\n      <td>46.127</td>\n      <td>8.061</td>\n      <td>7.023</td>\n      <td>60.4</td>\n      <td>4.0</td>\n    </tr>\n    <tr>\n      <th>690</th>\n      <td>Niger</td>\n      <td>2017</td>\n      <td>-</td>\n      <td>-</td>\n      <td>-</td>\n      <td>17</td>\n      <td>62.0</td>\n      <td>46.351</td>\n      <td>8.239</td>\n      <td>7.084</td>\n      <td>60.6</td>\n      <td>-</td>\n    </tr>\n  </tbody>\n</table>\n<p>1073 rows × 12 columns</p>\n</div>"
     },
     "execution_count": 43,
     "metadata": {},
     "output_type": "execute_result"
    }
   ],
   "source": [
    "sorted_data = global_trends_data.sort_values(by=['Birth Rate','Total Population'], ascending=True) # Сортировка сначала по столбцу 'Birth Rate' (Уровень рождаемости), а затем по столбцу 'Total Population' (Общая численность населения) в порядке возрастания.\n",
    "sorted_data"
   ],
   "metadata": {
    "collapsed": false,
    "ExecuteTime": {
     "end_time": "2023-10-03T11:10:08.625038500Z",
     "start_time": "2023-10-03T11:10:07.620836300Z"
    }
   },
   "id": "5449c6a72380279"
  },
  {
   "cell_type": "markdown",
   "source": [
    "* 2.9 Выведите название страны, которая имеет максимальную численность населения\n"
   ],
   "metadata": {
    "collapsed": false
   },
   "id": "663a8a03066a1969"
  },
  {
   "cell_type": "code",
   "execution_count": 44,
   "outputs": [
    {
     "name": "stdout",
     "output_type": "stream",
     "text": [
      "Seychelles is a country with maximum population\n"
     ]
    }
   ],
   "source": [
    "population_max = global_trends_data['Total Population'].idxmax()\n",
    "population_max_res = global_trends_data.loc[population_max, 'Country']\n",
    "print(population_max_res + \" is a country with maximum population\")"
   ],
   "metadata": {
    "collapsed": false,
    "ExecuteTime": {
     "end_time": "2023-10-03T11:10:09.424751100Z",
     "start_time": "2023-10-03T11:10:07.721577200Z"
    }
   },
   "id": "b5e100edbf1bd140"
  },
  {
   "cell_type": "markdown",
   "source": [
    "* 2.10 Выведите название страны, которая имеет минимальную численность населения\n"
   ],
   "metadata": {
    "collapsed": false
   },
   "id": "c272c518e77bbc70"
  },
  {
   "cell_type": "code",
   "execution_count": 45,
   "outputs": [
    {
     "name": "stdout",
     "output_type": "stream",
     "text": [
      "Afghanistan is a country with minimal population\n"
     ]
    }
   ],
   "source": [
    "population_min = global_trends_data['Total Population'].idxmin()\n",
    "population_min_res = global_trends_data.loc[population_min, 'Country']\n",
    "print(population_min_res + \" is a country with minimal population\")"
   ],
   "metadata": {
    "collapsed": false,
    "ExecuteTime": {
     "end_time": "2023-10-03T11:10:09.568900Z",
     "start_time": "2023-10-03T11:10:07.768254600Z"
    }
   },
   "id": "94e422abfdd553df"
  },
  {
   "cell_type": "markdown",
   "source": [
    "* 2.11 Экспорт фрейма в MS Excel\n"
   ],
   "metadata": {
    "collapsed": false
   },
   "id": "caf3ab5f57772d14"
  },
  {
   "cell_type": "code",
   "execution_count": 46,
   "outputs": [],
   "source": [
    "global_trends_data.to_excel(\"new_trend_file.xlsx\", index=False)"
   ],
   "metadata": {
    "collapsed": false,
    "ExecuteTime": {
     "end_time": "2023-10-03T11:10:11.557970300Z",
     "start_time": "2023-10-03T11:10:07.798840100Z"
    }
   },
   "id": "725a0e7f37ad4b82"
  },
  {
   "cell_type": "code",
   "execution_count": 46,
   "outputs": [],
   "source": [],
   "metadata": {
    "collapsed": false,
    "ExecuteTime": {
     "end_time": "2023-10-03T11:10:11.557970300Z",
     "start_time": "2023-10-03T11:10:11.530106Z"
    }
   },
   "id": "aa9bfe3357ee625a"
  }
 ],
 "metadata": {
  "kernelspec": {
   "display_name": "Python 3",
   "language": "python",
   "name": "python3"
  },
  "language_info": {
   "codemirror_mode": {
    "name": "ipython",
    "version": 2
   },
   "file_extension": ".py",
   "mimetype": "text/x-python",
   "name": "python",
   "nbconvert_exporter": "python",
   "pygments_lexer": "ipython2",
   "version": "2.7.6"
  }
 },
 "nbformat": 4,
 "nbformat_minor": 5
}
